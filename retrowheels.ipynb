{
 "metadata": {
  "language_info": {
   "codemirror_mode": {
    "name": "ipython",
    "version": 3
   },
   "file_extension": ".py",
   "mimetype": "text/x-python",
   "name": "python",
   "nbconvert_exporter": "python",
   "pygments_lexer": "ipython3",
   "version": ""
  },
  "orig_nbformat": 2,
  "kernelspec": {
   "name": "pythonjvsc74a57bd0ee5cc6fef2d70a7e71ee3826687cbd150f18158e0b1eef11d4f4f92bb920e304",
   "display_name": "Python 3.9.1 64-bit"
  },
  "metadata": {
   "interpreter": {
    "hash": "ee5cc6fef2d70a7e71ee3826687cbd150f18158e0b1eef11d4f4f92bb920e304"
   }
  }
 },
 "nbformat": 4,
 "nbformat_minor": 2,
 "cells": [
  {
   "cell_type": "code",
   "execution_count": 2,
   "metadata": {},
   "outputs": [],
   "source": [
    "# Import libraries\n",
    "import mysql.connector \n",
    "import pandas as pd"
   ]
  },
  {
   "cell_type": "code",
   "execution_count": 3,
   "metadata": {},
   "outputs": [],
   "source": [
    "# Create connection\n",
    "mydb = mysql.connector.connect(\n",
    "    host = 'localhost',\n",
    "    user = 'root',\n",
    "    passwd = 'xxxxxx',\n",
    "    database = 'retrowheels'\n",
    ")"
   ]
  },
  {
   "cell_type": "code",
   "execution_count": 5,
   "metadata": {},
   "outputs": [
    {
     "output_type": "execute_result",
     "data": {
      "text/plain": [
       "   Customers  Cities  Countries\n",
       "0        122      95         27"
      ],
      "text/html": "<div>\n<style scoped>\n    .dataframe tbody tr th:only-of-type {\n        vertical-align: middle;\n    }\n\n    .dataframe tbody tr th {\n        vertical-align: top;\n    }\n\n    .dataframe thead th {\n        text-align: right;\n    }\n</style>\n<table border=\"1\" class=\"dataframe\">\n  <thead>\n    <tr style=\"text-align: right;\">\n      <th></th>\n      <th>Customers</th>\n      <th>Cities</th>\n      <th>Countries</th>\n    </tr>\n  </thead>\n  <tbody>\n    <tr>\n      <th>0</th>\n      <td>122</td>\n      <td>95</td>\n      <td>27</td>\n    </tr>\n  </tbody>\n</table>\n</div>"
     },
     "metadata": {},
     "execution_count": 5
    }
   ],
   "source": [
    "# Soal 1\n",
    "mycursor = mydb.cursor()\n",
    "\n",
    "query = 'SELECT COUNT(DISTINCT(customerName)) AS Customers,COUNT(DISTINCT(city)) AS Cities,COUNT(DISTINCT(country)) AS Countries FROM customers'\n",
    "\n",
    "mycursor.execute(query)\n",
    "\n",
    "result = mycursor.fetchall()\n",
    "\n",
    "df = pd.DataFrame(result, columns = mycursor.column_names)\n",
    "df.head()"
   ]
  },
  {
   "cell_type": "code",
   "execution_count": 6,
   "metadata": {},
   "outputs": [
    {
     "output_type": "execute_result",
     "data": {
      "text/plain": [
       "   Employees  Offices  Country  Products StockProducts  Vendors\n",
       "0         23        7        5       110        555131       13"
      ],
      "text/html": "<div>\n<style scoped>\n    .dataframe tbody tr th:only-of-type {\n        vertical-align: middle;\n    }\n\n    .dataframe tbody tr th {\n        vertical-align: top;\n    }\n\n    .dataframe thead th {\n        text-align: right;\n    }\n</style>\n<table border=\"1\" class=\"dataframe\">\n  <thead>\n    <tr style=\"text-align: right;\">\n      <th></th>\n      <th>Employees</th>\n      <th>Offices</th>\n      <th>Country</th>\n      <th>Products</th>\n      <th>StockProducts</th>\n      <th>Vendors</th>\n    </tr>\n  </thead>\n  <tbody>\n    <tr>\n      <th>0</th>\n      <td>23</td>\n      <td>7</td>\n      <td>5</td>\n      <td>110</td>\n      <td>555131</td>\n      <td>13</td>\n    </tr>\n  </tbody>\n</table>\n</div>"
     },
     "metadata": {},
     "execution_count": 6
    }
   ],
   "source": [
    "# Soal 2\n",
    "mycursor = mydb.cursor()\n",
    "\n",
    "query = 'SELECT (SELECT COUNT(DISTINCT employeeNumber) FROM employees) AS Employees, (SELECT COUNT(DISTINCT officeCode) FROM offices) AS Offices, (SELECT COUNT(DISTINCT country) FROM offices) AS Country, (SELECT COUNT(DISTINCT productCode) FROM products) AS Products, (SELECT SUM(quantityInStock) FROM products) AS StockProducts, (SELECT COUNT(DISTINCT productVendor) FROM products) AS Vendors'\n",
    "\n",
    "mycursor.execute(query)\n",
    "\n",
    "result = mycursor.fetchall()\n",
    "\n",
    "df = pd.DataFrame(result, columns = mycursor.column_names)\n",
    "df.head()"
   ]
  },
  {
   "cell_type": "code",
   "execution_count": 7,
   "metadata": {},
   "outputs": [
    {
     "output_type": "execute_result",
     "data": {
      "text/plain": [
       "    productline minPrice maxPrice\n",
       "0  Classic Cars    15.91   103.42\n",
       "1   Motorcycles    24.14    91.02\n",
       "2        Planes    29.34    77.27\n",
       "3         Ships    33.30    82.34\n",
       "4        Trains    26.72    67.56"
      ],
      "text/html": "<div>\n<style scoped>\n    .dataframe tbody tr th:only-of-type {\n        vertical-align: middle;\n    }\n\n    .dataframe tbody tr th {\n        vertical-align: top;\n    }\n\n    .dataframe thead th {\n        text-align: right;\n    }\n</style>\n<table border=\"1\" class=\"dataframe\">\n  <thead>\n    <tr style=\"text-align: right;\">\n      <th></th>\n      <th>productline</th>\n      <th>minPrice</th>\n      <th>maxPrice</th>\n    </tr>\n  </thead>\n  <tbody>\n    <tr>\n      <th>0</th>\n      <td>Classic Cars</td>\n      <td>15.91</td>\n      <td>103.42</td>\n    </tr>\n    <tr>\n      <th>1</th>\n      <td>Motorcycles</td>\n      <td>24.14</td>\n      <td>91.02</td>\n    </tr>\n    <tr>\n      <th>2</th>\n      <td>Planes</td>\n      <td>29.34</td>\n      <td>77.27</td>\n    </tr>\n    <tr>\n      <th>3</th>\n      <td>Ships</td>\n      <td>33.30</td>\n      <td>82.34</td>\n    </tr>\n    <tr>\n      <th>4</th>\n      <td>Trains</td>\n      <td>26.72</td>\n      <td>67.56</td>\n    </tr>\n  </tbody>\n</table>\n</div>"
     },
     "metadata": {},
     "execution_count": 7
    }
   ],
   "source": [
    "# Soal 3\n",
    "mycursor = mydb.cursor()\n",
    "\n",
    "query = 'SELECT DISTINCT productline, min(buyPrice) AS minPrice, max(buyPrice) AS maxPrice FROM products group by productline'\n",
    "\n",
    "mycursor.execute(query)\n",
    "\n",
    "result = mycursor.fetchall()\n",
    "\n",
    "df = pd.DataFrame(result, columns = mycursor.column_names)\n",
    "df.head()"
   ]
  },
  {
   "cell_type": "code",
   "execution_count": 8,
   "metadata": {},
   "outputs": [
    {
     "output_type": "execute_result",
     "data": {
      "text/plain": [
       "                   customername        city    country      total\n",
       "0        Euro+ Shopping Channel      Madrid      Spain  715738.98\n",
       "1  Mini Gifts Distributors Ltd.  San Rafael        USA  584188.24\n",
       "2    Australian Collectors, Co.   Melbourne  Australia  180585.07\n",
       "3            Muscle Machine Inc         NYC        USA  177913.95\n",
       "4       Dragon Souveniers, Ltd.   Singapore  Singapore  156251.03"
      ],
      "text/html": "<div>\n<style scoped>\n    .dataframe tbody tr th:only-of-type {\n        vertical-align: middle;\n    }\n\n    .dataframe tbody tr th {\n        vertical-align: top;\n    }\n\n    .dataframe thead th {\n        text-align: right;\n    }\n</style>\n<table border=\"1\" class=\"dataframe\">\n  <thead>\n    <tr style=\"text-align: right;\">\n      <th></th>\n      <th>customername</th>\n      <th>city</th>\n      <th>country</th>\n      <th>total</th>\n    </tr>\n  </thead>\n  <tbody>\n    <tr>\n      <th>0</th>\n      <td>Euro+ Shopping Channel</td>\n      <td>Madrid</td>\n      <td>Spain</td>\n      <td>715738.98</td>\n    </tr>\n    <tr>\n      <th>1</th>\n      <td>Mini Gifts Distributors Ltd.</td>\n      <td>San Rafael</td>\n      <td>USA</td>\n      <td>584188.24</td>\n    </tr>\n    <tr>\n      <th>2</th>\n      <td>Australian Collectors, Co.</td>\n      <td>Melbourne</td>\n      <td>Australia</td>\n      <td>180585.07</td>\n    </tr>\n    <tr>\n      <th>3</th>\n      <td>Muscle Machine Inc</td>\n      <td>NYC</td>\n      <td>USA</td>\n      <td>177913.95</td>\n    </tr>\n    <tr>\n      <th>4</th>\n      <td>Dragon Souveniers, Ltd.</td>\n      <td>Singapore</td>\n      <td>Singapore</td>\n      <td>156251.03</td>\n    </tr>\n  </tbody>\n</table>\n</div>"
     },
     "metadata": {},
     "execution_count": 8
    }
   ],
   "source": [
    "# Soal 4\n",
    "mycursor = mydb.cursor()\n",
    "\n",
    "query = 'SELECT customername, city, country, SUM(amount) AS total FROM customers, payments WHERE customers.customernumber= payments.customernumber group by customers.customernumber order by total desc LIMIT 10'\n",
    "\n",
    "mycursor.execute(query)\n",
    "\n",
    "result = mycursor.fetchall()\n",
    "\n",
    "df = pd.DataFrame(result, columns = mycursor.column_names)\n",
    "df.head()"
   ]
  },
  {
   "cell_type": "code",
   "execution_count": 9,
   "metadata": {},
   "outputs": [
    {
     "output_type": "execute_result",
     "data": {
      "text/plain": [
       "        customerName                     productName  quantityOrdered  \\\n",
       "0  Atelier graphique           1965 Aston Martin DB5               26   \n",
       "1  Atelier graphique    1999 Indy 500 Monte Carlo SS               46   \n",
       "2  Atelier graphique  1948 Porsche Type 356 Roadster               34   \n",
       "3  Atelier graphique       1966 Shelby Cobra 427 S/C               50   \n",
       "\n",
       "  priceEach  \n",
       "0    120.71  \n",
       "1    114.84  \n",
       "2    117.26  \n",
       "3     43.27  "
      ],
      "text/html": "<div>\n<style scoped>\n    .dataframe tbody tr th:only-of-type {\n        vertical-align: middle;\n    }\n\n    .dataframe tbody tr th {\n        vertical-align: top;\n    }\n\n    .dataframe thead th {\n        text-align: right;\n    }\n</style>\n<table border=\"1\" class=\"dataframe\">\n  <thead>\n    <tr style=\"text-align: right;\">\n      <th></th>\n      <th>customerName</th>\n      <th>productName</th>\n      <th>quantityOrdered</th>\n      <th>priceEach</th>\n    </tr>\n  </thead>\n  <tbody>\n    <tr>\n      <th>0</th>\n      <td>Atelier graphique</td>\n      <td>1965 Aston Martin DB5</td>\n      <td>26</td>\n      <td>120.71</td>\n    </tr>\n    <tr>\n      <th>1</th>\n      <td>Atelier graphique</td>\n      <td>1999 Indy 500 Monte Carlo SS</td>\n      <td>46</td>\n      <td>114.84</td>\n    </tr>\n    <tr>\n      <th>2</th>\n      <td>Atelier graphique</td>\n      <td>1948 Porsche Type 356 Roadster</td>\n      <td>34</td>\n      <td>117.26</td>\n    </tr>\n    <tr>\n      <th>3</th>\n      <td>Atelier graphique</td>\n      <td>1966 Shelby Cobra 427 S/C</td>\n      <td>50</td>\n      <td>43.27</td>\n    </tr>\n  </tbody>\n</table>\n</div>"
     },
     "metadata": {},
     "execution_count": 9
    }
   ],
   "source": [
    "# Soal 5\n",
    "mycursor = mydb.cursor()\n",
    "\n",
    "query = ' select c.customerName, p.productName, od.quantityOrdered, od.priceEach from products as p inner join orderdetails as od using (productCode) inner join orders as o using (orderNumber) inner join customers as c using (customerNumber) inner join payments as py using (customerNumber) where py.paymentDate = \"2003-06-05\" and o.orderNumber=10123'\n",
    "\n",
    "mycursor.execute(query)\n",
    "\n",
    "result = mycursor.fetchall()\n",
    "\n",
    "df = pd.DataFrame(result, columns = mycursor.column_names)\n",
    "df.head()"
   ]
  },
  {
   "cell_type": "code",
   "execution_count": null,
   "metadata": {},
   "outputs": [],
   "source": []
  }
 ]
}
